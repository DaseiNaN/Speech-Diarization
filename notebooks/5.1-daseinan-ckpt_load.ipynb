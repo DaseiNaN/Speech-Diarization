{
 "cells": [
  {
   "cell_type": "code",
   "execution_count": null,
   "metadata": {},
   "outputs": [],
   "source": [
    "import sys\n",
    "sys.path.append('/home/dasein/Projects/Speech-Diarization')\n",
    "import torch"
   ]
  },
  {
   "cell_type": "code",
   "execution_count": null,
   "metadata": {},
   "outputs": [],
   "source": [
    "init_model = torch.load('/home/dasein/Projects/Speech-Diarization/logs/experiments/runs/sa_eend_spk_embed/2022-03-24_18-18-19/avg/avg.ckpt')['model']"
   ]
  },
  {
   "cell_type": "code",
   "execution_count": null,
   "metadata": {},
   "outputs": [],
   "source": [
    "from src.models.components.sa_eend_spk_embed import SAEENDSpkEmbed"
   ]
  },
  {
   "cell_type": "code",
   "execution_count": null,
   "metadata": {},
   "outputs": [],
   "source": [
    "init_model.keys()\n"
   ]
  },
  {
   "cell_type": "code",
   "execution_count": null,
   "metadata": {},
   "outputs": [],
   "source": [
    "net = SAEENDSpkEmbed(\n",
    "    n_speakers=2,\n",
    "        in_size=345,\n",
    "        n_heads=4,\n",
    "        n_units=256,\n",
    "        n_layers=4,\n",
    "        dim_feedforward=2048,\n",
    "        dropout=0.1,\n",
    "        has_pos=False,\n",
    "        spk_emb_dim=256\n",
    ")"
   ]
  },
  {
   "cell_type": "code",
   "execution_count": null,
   "metadata": {},
   "outputs": [],
   "source": [
    "net.load_state_dict(init_model)"
   ]
  }
 ],
 "metadata": {
  "interpreter": {
   "hash": "2452e518d09b2267378e6914cf9981888d6ae5f230e9e0da64b34b6c652eb68b"
  },
  "kernelspec": {
   "display_name": "Python 3.9.7 ('SDenv')",
   "language": "python",
   "name": "python3"
  },
  "language_info": {
   "codemirror_mode": {
    "name": "ipython",
    "version": 3
   },
   "file_extension": ".py",
   "mimetype": "text/x-python",
   "name": "python",
   "nbconvert_exporter": "python",
   "pygments_lexer": "ipython3",
   "version": "3.9.7"
  }
 },
 "nbformat": 4,
 "nbformat_minor": 2
}
